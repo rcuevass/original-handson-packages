{
 "cells": [
  {
   "cell_type": "markdown",
   "metadata": {
    "colab_type": "text",
    "id": "PgLBTgTkmNDG"
   },
   "source": [
    "# Recommender Systems\n",
    "### Reverse-engeneering users needs/desires\n",
    "\n",
    "Recommender systems have been in the heart of ML. Mostly that in order to get insigths on large populations it was necessary to understand how users behave, but this can only be done from the historical behaviour. \n",
    "\n",
    "Let's fix some setting that we use for the workshop. We have three main components: the business, the users, and the products. Most of the time a business would like to recommend products to its users. The business knows that the better it understands the user, the better the recommendations, and thus the user will be more likely to consume its products.\n",
    "\n",
    "Simple right? Well, not as much, the following things need to be considered:\n",
    "\n",
    "- What does it mean to know a user? How can we encode this? \n",
    "- If we have the purchase history of the user, do we want to recommend new items or old items? Why?\n",
    "- Business rules exists, like inventory, push products, maximize revenue, lower churn, etc.\n",
    "- What policies should be put in place? GDPR? \n",
    "- How to reduce bias.\n",
    "- Computational resources, speed.\n",
    "- Cold start for products and users.\n",
    "- Legacy systems.\n",
    "- UX integration.\n",
    "- etc\n",
    "\n",
    "\n",
    "Historically, two main approaches exist: collaborative filtering and content-based recommendations. These are often used together."
   ]
  },
  {
   "cell_type": "markdown",
   "metadata": {},
   "source": [
    "# Collaborative Filtering\n",
    "\n",
    "\n",
    "## Memory based\n",
    "\n",
    " - Easy to explain\n",
    " - Hard to scale\n",
    " - Not good for sparse data\n",
    "\n",
    "Usually based on similarity. \n",
    "\n",
    "\n",
    "\n",
    "\n",
    "## Model based\n",
    "\n",
    " - Good for sparse\n",
    " - Difficult to explain\n",
    " - Hard to do inference\n"
   ]
  },
  {
   "cell_type": "markdown",
   "metadata": {
    "colab_type": "text",
    "id": "jQYas5y7nls5"
   },
   "source": [
    "Let's start with the most basic approach using a popular\n",
    "(light-weight) dataset [MovieLens](http://files.grouplens.org/datasets/movielens/ml-20m.zip)"
   ]
  },
  {
   "cell_type": "code",
   "execution_count": 1,
   "metadata": {
    "colab": {},
    "colab_type": "code",
    "id": "hc01TY47Vdnv"
   },
   "outputs": [],
   "source": [
    "import os\n",
    "import numpy as np\n",
    "import pandas as pd\n",
    "import matplotlib.pyplot as plt"
   ]
  },
  {
   "cell_type": "markdown",
   "metadata": {
    "colab_type": "text",
    "id": "A3d88NDr6YqL"
   },
   "source": [
    "## Load MovieLens Data"
   ]
  },
  {
   "cell_type": "code",
   "execution_count": 2,
   "metadata": {
    "colab": {
     "base_uri": "https://localhost:8080/",
     "height": 34
    },
    "colab_type": "code",
    "executionInfo": {
     "elapsed": 2323,
     "status": "ok",
     "timestamp": 1572480960961,
     "user": {
      "displayName": "Ella Chen",
      "photoUrl": "https://lh3.googleusercontent.com/a-/AAuE7mDkHxBI3MfubseoYi1ejs9VfrRF0XXcAX0H7Y529g=s64",
      "userId": "06766956205880688168"
     },
     "user_tz": 240
    },
    "id": "xgF3el8PDegU",
    "outputId": "c99be214-2738-4926-a39d-4dbd0fb04532"
   },
   "outputs": [
    {
     "data": {
      "text/plain": [
       "['movies.csv', 'ratings.csv']"
      ]
     },
     "execution_count": 2,
     "metadata": {},
     "output_type": "execute_result"
    }
   ],
   "source": [
    "data_dir = \"../data/ml-20m\"\n",
    "\n",
    "os.listdir(data_dir)"
   ]
  },
  {
   "cell_type": "code",
   "execution_count": 3,
   "metadata": {
    "colab": {},
    "colab_type": "code",
    "id": "Obr7IG-JbobT"
   },
   "outputs": [],
   "source": [
    "movies = pd.read_csv(f\"{data_dir}/movies.csv\")\n",
    "ratings = pd.read_csv(f\"{data_dir}/ratings.csv\")"
   ]
  },
  {
   "cell_type": "markdown",
   "metadata": {
    "colab_type": "text",
    "id": "Q4gMKqb-V0DY"
   },
   "source": [
    "## Exploring the data \n",
    "\n",
    "Use pandas to understand the distribution of your data, this helps understand what kind of goals are possible. It is always a good idea to extensively explore and understand the data.\n",
    "\n",
    "### Exercise:\n",
    "1. Choose a couple from the following list and use pandas to find out the answer:\n",
    "\n",
    "    - What columns exist in the data?\n",
    "    - What are the possible rankings?\n",
    "    - How are the rankings distributed? \n",
    "    - What is the average ranking? \n",
    "    - What is the distribution of the average ranking among users?\n",
    "    - How many genres are there?\n",
    "    - What is the genre distribution for the movies?\n",
    "    - What can you say about the timestamp? \n",
    "    - Do all movies have a year? What is the distribution of Mystery movies during the years?\n",
    "\n",
    "2. Come up with at least two more statistics that aren't from the above list.\n",
    "\n",
    "*Use the following couple of cells to answer your questions. Make sure to work on this before moving ahead.*"
   ]
  },
  {
   "cell_type": "markdown",
   "metadata": {},
   "source": [
    "##### Possible rankings (rating)"
   ]
  },
  {
   "cell_type": "code",
   "execution_count": 4,
   "metadata": {},
   "outputs": [
    {
     "data": {
      "text/plain": [
       "array([0.5, 1. , 1.5, 2. , 2.5, 3. , 3.5, 4. , 4.5, 5. ])"
      ]
     },
     "execution_count": 4,
     "metadata": {},
     "output_type": "execute_result"
    }
   ],
   "source": [
    "np.sort(ratings['rating'].unique())"
   ]
  },
  {
   "cell_type": "markdown",
   "metadata": {},
   "source": [
    "##### Average ranking (rating)"
   ]
  },
  {
   "cell_type": "code",
   "execution_count": 5,
   "metadata": {},
   "outputs": [
    {
     "data": {
      "text/plain": [
       "3.5"
      ]
     },
     "execution_count": 5,
     "metadata": {},
     "output_type": "execute_result"
    }
   ],
   "source": [
    "round(ratings['rating'].mean(),1)"
   ]
  },
  {
   "cell_type": "markdown",
   "metadata": {},
   "source": [
    "##### Do all movies have a year?"
   ]
  },
  {
   "cell_type": "code",
   "execution_count": 6,
   "metadata": {},
   "outputs": [],
   "source": [
    "import re"
   ]
  },
  {
   "cell_type": "code",
   "execution_count": 7,
   "metadata": {},
   "outputs": [],
   "source": [
    "# make copy of movies\n",
    "df_movies = movies.copy()\n",
    "# Since year seems to be captured as part of the title, in parentheses, let's capture all instances within parentheses \n",
    "# and get the last element of the list -- candidate to year\n",
    "df_movies['year'] = df_movies['title'].apply(lambda x: re.findall('\\((.*?)\\)', x)[-1:])\n",
    "# account for cases where list can be empty\n",
    "df_movies['year'] = df_movies['year'].apply(lambda x: x[0].strip() if x != [] else np.nan)"
   ]
  },
  {
   "cell_type": "code",
   "execution_count": 8,
   "metadata": {},
   "outputs": [
    {
     "data": {
      "text/html": [
       "<div>\n",
       "<style scoped>\n",
       "    .dataframe tbody tr th:only-of-type {\n",
       "        vertical-align: middle;\n",
       "    }\n",
       "\n",
       "    .dataframe tbody tr th {\n",
       "        vertical-align: top;\n",
       "    }\n",
       "\n",
       "    .dataframe thead th {\n",
       "        text-align: right;\n",
       "    }\n",
       "</style>\n",
       "<table border=\"1\" class=\"dataframe\">\n",
       "  <thead>\n",
       "    <tr style=\"text-align: right;\">\n",
       "      <th></th>\n",
       "      <th>movieId</th>\n",
       "      <th>title</th>\n",
       "      <th>genres</th>\n",
       "      <th>year</th>\n",
       "    </tr>\n",
       "  </thead>\n",
       "  <tbody>\n",
       "    <tr>\n",
       "      <td>8047</td>\n",
       "      <td>8730</td>\n",
       "      <td>To End All Wars (2001)</td>\n",
       "      <td>Action|Drama|War</td>\n",
       "      <td>2001</td>\n",
       "    </tr>\n",
       "    <tr>\n",
       "      <td>16494</td>\n",
       "      <td>83330</td>\n",
       "      <td>Rasputin (1996)</td>\n",
       "      <td>Drama</td>\n",
       "      <td>1996</td>\n",
       "    </tr>\n",
       "    <tr>\n",
       "      <td>19975</td>\n",
       "      <td>98471</td>\n",
       "      <td>36 Crazy Fists (San shi liu mi xing quan) (1977)</td>\n",
       "      <td>Action|Comedy|Drama</td>\n",
       "      <td>1977</td>\n",
       "    </tr>\n",
       "    <tr>\n",
       "      <td>2106</td>\n",
       "      <td>2190</td>\n",
       "      <td>Why Do Fools Fall In Love? (1998)</td>\n",
       "      <td>Drama</td>\n",
       "      <td>1998</td>\n",
       "    </tr>\n",
       "    <tr>\n",
       "      <td>25616</td>\n",
       "      <td>121137</td>\n",
       "      <td>Wrong Turn 5: Bloodlines (2012)</td>\n",
       "      <td>Horror|Thriller</td>\n",
       "      <td>2012</td>\n",
       "    </tr>\n",
       "    <tr>\n",
       "      <td>11084</td>\n",
       "      <td>46098</td>\n",
       "      <td>Crossing the Bridge: The Sound of Istanbul (2005)</td>\n",
       "      <td>Documentary|Musical</td>\n",
       "      <td>2005</td>\n",
       "    </tr>\n",
       "    <tr>\n",
       "      <td>1303</td>\n",
       "      <td>1332</td>\n",
       "      <td>Believers, The (1987)</td>\n",
       "      <td>Horror|Thriller</td>\n",
       "      <td>1987</td>\n",
       "    </tr>\n",
       "    <tr>\n",
       "      <td>20748</td>\n",
       "      <td>101579</td>\n",
       "      <td>Ocean Heaven (2010)</td>\n",
       "      <td>Drama</td>\n",
       "      <td>2010</td>\n",
       "    </tr>\n",
       "    <tr>\n",
       "      <td>23765</td>\n",
       "      <td>112946</td>\n",
       "      <td>Wish I Was Here (2014)</td>\n",
       "      <td>Comedy|Drama</td>\n",
       "      <td>2014</td>\n",
       "    </tr>\n",
       "    <tr>\n",
       "      <td>18104</td>\n",
       "      <td>90653</td>\n",
       "      <td>Carpenter, The (1988)</td>\n",
       "      <td>Horror|Thriller</td>\n",
       "      <td>1988</td>\n",
       "    </tr>\n",
       "    <tr>\n",
       "      <td>19585</td>\n",
       "      <td>96954</td>\n",
       "      <td>Doughboys (1930)</td>\n",
       "      <td>Comedy|War</td>\n",
       "      <td>1930</td>\n",
       "    </tr>\n",
       "    <tr>\n",
       "      <td>8243</td>\n",
       "      <td>8926</td>\n",
       "      <td>Circle of Iron (1978)</td>\n",
       "      <td>Action|Adventure|Fantasy|Mystery</td>\n",
       "      <td>1978</td>\n",
       "    </tr>\n",
       "    <tr>\n",
       "      <td>25656</td>\n",
       "      <td>121279</td>\n",
       "      <td>Little Lord Fauntleroy (1980)</td>\n",
       "      <td>Children|Drama|Romance</td>\n",
       "      <td>1980</td>\n",
       "    </tr>\n",
       "    <tr>\n",
       "      <td>18942</td>\n",
       "      <td>94222</td>\n",
       "      <td>Don't Eat the Pictures: Sesame Street at the M...</td>\n",
       "      <td>Children</td>\n",
       "      <td>1983</td>\n",
       "    </tr>\n",
       "    <tr>\n",
       "      <td>18802</td>\n",
       "      <td>93574</td>\n",
       "      <td>Resurrect Dead: The Mystery of the Toynbee Til...</td>\n",
       "      <td>Documentary|Mystery</td>\n",
       "      <td>2011</td>\n",
       "    </tr>\n",
       "    <tr>\n",
       "      <td>8159</td>\n",
       "      <td>8842</td>\n",
       "      <td>Past Midnight (1992)</td>\n",
       "      <td>Horror|Thriller</td>\n",
       "      <td>1992</td>\n",
       "    </tr>\n",
       "    <tr>\n",
       "      <td>25998</td>\n",
       "      <td>124348</td>\n",
       "      <td>The Land Before Time XIII: The Wisdom of Frien...</td>\n",
       "      <td>Animation|Children</td>\n",
       "      <td>2007</td>\n",
       "    </tr>\n",
       "    <tr>\n",
       "      <td>22466</td>\n",
       "      <td>107756</td>\n",
       "      <td>A.C.O.D. (2013)</td>\n",
       "      <td>Comedy</td>\n",
       "      <td>2013</td>\n",
       "    </tr>\n",
       "    <tr>\n",
       "      <td>22900</td>\n",
       "      <td>109444</td>\n",
       "      <td>Education of Mohammad Hussein, The (2013)</td>\n",
       "      <td>Documentary</td>\n",
       "      <td>2013</td>\n",
       "    </tr>\n",
       "    <tr>\n",
       "      <td>3778</td>\n",
       "      <td>3871</td>\n",
       "      <td>Shane (1953)</td>\n",
       "      <td>Drama|Western</td>\n",
       "      <td>1953</td>\n",
       "    </tr>\n",
       "  </tbody>\n",
       "</table>\n",
       "</div>"
      ],
      "text/plain": [
       "       movieId                                              title  \\\n",
       "8047      8730                             To End All Wars (2001)   \n",
       "16494    83330                                    Rasputin (1996)   \n",
       "19975    98471   36 Crazy Fists (San shi liu mi xing quan) (1977)   \n",
       "2106      2190                  Why Do Fools Fall In Love? (1998)   \n",
       "25616   121137                    Wrong Turn 5: Bloodlines (2012)   \n",
       "11084    46098  Crossing the Bridge: The Sound of Istanbul (2005)   \n",
       "1303      1332                              Believers, The (1987)   \n",
       "20748   101579                               Ocean Heaven (2010)    \n",
       "23765   112946                             Wish I Was Here (2014)   \n",
       "18104    90653                              Carpenter, The (1988)   \n",
       "19585    96954                                   Doughboys (1930)   \n",
       "8243      8926                              Circle of Iron (1978)   \n",
       "25656   121279                      Little Lord Fauntleroy (1980)   \n",
       "18942    94222  Don't Eat the Pictures: Sesame Street at the M...   \n",
       "18802    93574  Resurrect Dead: The Mystery of the Toynbee Til...   \n",
       "8159      8842                               Past Midnight (1992)   \n",
       "25998   124348  The Land Before Time XIII: The Wisdom of Frien...   \n",
       "22466   107756                                    A.C.O.D. (2013)   \n",
       "22900   109444          Education of Mohammad Hussein, The (2013)   \n",
       "3778      3871                                       Shane (1953)   \n",
       "\n",
       "                                 genres  year  \n",
       "8047                   Action|Drama|War  2001  \n",
       "16494                             Drama  1996  \n",
       "19975               Action|Comedy|Drama  1977  \n",
       "2106                              Drama  1998  \n",
       "25616                   Horror|Thriller  2012  \n",
       "11084               Documentary|Musical  2005  \n",
       "1303                    Horror|Thriller  1987  \n",
       "20748                             Drama  2010  \n",
       "23765                      Comedy|Drama  2014  \n",
       "18104                   Horror|Thriller  1988  \n",
       "19585                        Comedy|War  1930  \n",
       "8243   Action|Adventure|Fantasy|Mystery  1978  \n",
       "25656            Children|Drama|Romance  1980  \n",
       "18942                          Children  1983  \n",
       "18802               Documentary|Mystery  2011  \n",
       "8159                    Horror|Thriller  1992  \n",
       "25998                Animation|Children  2007  \n",
       "22466                            Comedy  2013  \n",
       "22900                       Documentary  2013  \n",
       "3778                      Drama|Western  1953  "
      ]
     },
     "execution_count": 8,
     "metadata": {},
     "output_type": "execute_result"
    }
   ],
   "source": [
    "df_movies.sample(20)"
   ]
  },
  {
   "cell_type": "markdown",
   "metadata": {},
   "source": [
    "Anomalies in terms of how year is provided (on-going, range)"
   ]
  },
  {
   "cell_type": "code",
   "execution_count": 9,
   "metadata": {},
   "outputs": [
    {
     "data": {
      "text/plain": [
       "['2009–']"
      ]
     },
     "execution_count": 9,
     "metadata": {},
     "output_type": "execute_result"
    }
   ],
   "source": [
    "df_movies['year'][22368].split('-')"
   ]
  },
  {
   "cell_type": "code",
   "execution_count": 10,
   "metadata": {},
   "outputs": [
    {
     "data": {
      "text/plain": [
       "['1975', '1979']"
      ]
     },
     "execution_count": 10,
     "metadata": {},
     "output_type": "execute_result"
    }
   ],
   "source": [
    "df_movies['year'][22679].split('-')"
   ]
  },
  {
   "cell_type": "code",
   "execution_count": 11,
   "metadata": {},
   "outputs": [
    {
     "data": {
      "text/plain": [
       "'Bicicleta, cullera, poma'"
      ]
     },
     "execution_count": 11,
     "metadata": {},
     "output_type": "execute_result"
    }
   ],
   "source": [
    "df_movies['year'][17341]"
   ]
  },
  {
   "cell_type": "code",
   "execution_count": 12,
   "metadata": {},
   "outputs": [
    {
     "data": {
      "text/plain": [
       "False"
      ]
     },
     "execution_count": 12,
     "metadata": {},
     "output_type": "execute_result"
    }
   ],
   "source": [
    "df_movies['year'][17341].isnumeric()"
   ]
  },
  {
   "cell_type": "markdown",
   "metadata": {},
   "source": [
    "Fixing these instances"
   ]
  },
  {
   "cell_type": "code",
   "execution_count": 13,
   "metadata": {},
   "outputs": [
    {
     "data": {
      "text/html": [
       "<div>\n",
       "<style scoped>\n",
       "    .dataframe tbody tr th:only-of-type {\n",
       "        vertical-align: middle;\n",
       "    }\n",
       "\n",
       "    .dataframe tbody tr th {\n",
       "        vertical-align: top;\n",
       "    }\n",
       "\n",
       "    .dataframe thead th {\n",
       "        text-align: right;\n",
       "    }\n",
       "</style>\n",
       "<table border=\"1\" class=\"dataframe\">\n",
       "  <thead>\n",
       "    <tr style=\"text-align: right;\">\n",
       "      <th></th>\n",
       "      <th>movieId</th>\n",
       "      <th>title</th>\n",
       "      <th>genres</th>\n",
       "      <th>year</th>\n",
       "    </tr>\n",
       "  </thead>\n",
       "  <tbody>\n",
       "    <tr>\n",
       "      <td>0</td>\n",
       "      <td>1</td>\n",
       "      <td>Toy Story (1995)</td>\n",
       "      <td>Adventure|Animation|Children|Comedy|Fantasy</td>\n",
       "      <td>1995</td>\n",
       "    </tr>\n",
       "    <tr>\n",
       "      <td>1</td>\n",
       "      <td>2</td>\n",
       "      <td>Jumanji (1995)</td>\n",
       "      <td>Adventure|Children|Fantasy</td>\n",
       "      <td>1995</td>\n",
       "    </tr>\n",
       "    <tr>\n",
       "      <td>2</td>\n",
       "      <td>3</td>\n",
       "      <td>Grumpier Old Men (1995)</td>\n",
       "      <td>Comedy|Romance</td>\n",
       "      <td>1995</td>\n",
       "    </tr>\n",
       "    <tr>\n",
       "      <td>3</td>\n",
       "      <td>4</td>\n",
       "      <td>Waiting to Exhale (1995)</td>\n",
       "      <td>Comedy|Drama|Romance</td>\n",
       "      <td>1995</td>\n",
       "    </tr>\n",
       "    <tr>\n",
       "      <td>4</td>\n",
       "      <td>5</td>\n",
       "      <td>Father of the Bride Part II (1995)</td>\n",
       "      <td>Comedy</td>\n",
       "      <td>1995</td>\n",
       "    </tr>\n",
       "  </tbody>\n",
       "</table>\n",
       "</div>"
      ],
      "text/plain": [
       "   movieId                               title  \\\n",
       "0        1                    Toy Story (1995)   \n",
       "1        2                      Jumanji (1995)   \n",
       "2        3             Grumpier Old Men (1995)   \n",
       "3        4            Waiting to Exhale (1995)   \n",
       "4        5  Father of the Bride Part II (1995)   \n",
       "\n",
       "                                        genres  year  \n",
       "0  Adventure|Animation|Children|Comedy|Fantasy  1995  \n",
       "1                   Adventure|Children|Fantasy  1995  \n",
       "2                               Comedy|Romance  1995  \n",
       "3                         Comedy|Drama|Romance  1995  \n",
       "4                                       Comedy  1995  "
      ]
     },
     "execution_count": 13,
     "metadata": {},
     "output_type": "execute_result"
    }
   ],
   "source": [
    "df_movies.head()"
   ]
  },
  {
   "cell_type": "code",
   "execution_count": 14,
   "metadata": {},
   "outputs": [
    {
     "data": {
      "text/plain": [
       "nan"
      ]
     },
     "execution_count": 14,
     "metadata": {},
     "output_type": "execute_result"
    }
   ],
   "source": [
    "df_movies['year'][10593]"
   ]
  },
  {
   "cell_type": "code",
   "execution_count": 15,
   "metadata": {},
   "outputs": [
    {
     "data": {
      "text/html": [
       "<div>\n",
       "<style scoped>\n",
       "    .dataframe tbody tr th:only-of-type {\n",
       "        vertical-align: middle;\n",
       "    }\n",
       "\n",
       "    .dataframe tbody tr th {\n",
       "        vertical-align: top;\n",
       "    }\n",
       "\n",
       "    .dataframe thead th {\n",
       "        text-align: right;\n",
       "    }\n",
       "</style>\n",
       "<table border=\"1\" class=\"dataframe\">\n",
       "  <thead>\n",
       "    <tr style=\"text-align: right;\">\n",
       "      <th></th>\n",
       "      <th>movieId</th>\n",
       "      <th>title</th>\n",
       "      <th>genres</th>\n",
       "      <th>year</th>\n",
       "    </tr>\n",
       "  </thead>\n",
       "  <tbody>\n",
       "    <tr>\n",
       "      <td>0</td>\n",
       "      <td>1</td>\n",
       "      <td>Toy Story (1995)</td>\n",
       "      <td>Adventure|Animation|Children|Comedy|Fantasy</td>\n",
       "      <td>1995</td>\n",
       "    </tr>\n",
       "    <tr>\n",
       "      <td>1</td>\n",
       "      <td>2</td>\n",
       "      <td>Jumanji (1995)</td>\n",
       "      <td>Adventure|Children|Fantasy</td>\n",
       "      <td>1995</td>\n",
       "    </tr>\n",
       "    <tr>\n",
       "      <td>2</td>\n",
       "      <td>3</td>\n",
       "      <td>Grumpier Old Men (1995)</td>\n",
       "      <td>Comedy|Romance</td>\n",
       "      <td>1995</td>\n",
       "    </tr>\n",
       "    <tr>\n",
       "      <td>3</td>\n",
       "      <td>4</td>\n",
       "      <td>Waiting to Exhale (1995)</td>\n",
       "      <td>Comedy|Drama|Romance</td>\n",
       "      <td>1995</td>\n",
       "    </tr>\n",
       "    <tr>\n",
       "      <td>4</td>\n",
       "      <td>5</td>\n",
       "      <td>Father of the Bride Part II (1995)</td>\n",
       "      <td>Comedy</td>\n",
       "      <td>1995</td>\n",
       "    </tr>\n",
       "    <tr>\n",
       "      <td>...</td>\n",
       "      <td>...</td>\n",
       "      <td>...</td>\n",
       "      <td>...</td>\n",
       "      <td>...</td>\n",
       "    </tr>\n",
       "    <tr>\n",
       "      <td>27273</td>\n",
       "      <td>131254</td>\n",
       "      <td>Kein Bund für's Leben (2007)</td>\n",
       "      <td>Comedy</td>\n",
       "      <td>2007</td>\n",
       "    </tr>\n",
       "    <tr>\n",
       "      <td>27274</td>\n",
       "      <td>131256</td>\n",
       "      <td>Feuer, Eis &amp; Dosenbier (2002)</td>\n",
       "      <td>Comedy</td>\n",
       "      <td>2002</td>\n",
       "    </tr>\n",
       "    <tr>\n",
       "      <td>27275</td>\n",
       "      <td>131258</td>\n",
       "      <td>The Pirates (2014)</td>\n",
       "      <td>Adventure</td>\n",
       "      <td>2014</td>\n",
       "    </tr>\n",
       "    <tr>\n",
       "      <td>27276</td>\n",
       "      <td>131260</td>\n",
       "      <td>Rentun Ruusu (2001)</td>\n",
       "      <td>(no genres listed)</td>\n",
       "      <td>2001</td>\n",
       "    </tr>\n",
       "    <tr>\n",
       "      <td>27277</td>\n",
       "      <td>131262</td>\n",
       "      <td>Innocence (2014)</td>\n",
       "      <td>Adventure|Fantasy|Horror</td>\n",
       "      <td>2014</td>\n",
       "    </tr>\n",
       "  </tbody>\n",
       "</table>\n",
       "<p>27278 rows × 4 columns</p>\n",
       "</div>"
      ],
      "text/plain": [
       "       movieId                               title  \\\n",
       "0            1                    Toy Story (1995)   \n",
       "1            2                      Jumanji (1995)   \n",
       "2            3             Grumpier Old Men (1995)   \n",
       "3            4            Waiting to Exhale (1995)   \n",
       "4            5  Father of the Bride Part II (1995)   \n",
       "...        ...                                 ...   \n",
       "27273   131254        Kein Bund für's Leben (2007)   \n",
       "27274   131256       Feuer, Eis & Dosenbier (2002)   \n",
       "27275   131258                  The Pirates (2014)   \n",
       "27276   131260                 Rentun Ruusu (2001)   \n",
       "27277   131262                    Innocence (2014)   \n",
       "\n",
       "                                            genres  year  \n",
       "0      Adventure|Animation|Children|Comedy|Fantasy  1995  \n",
       "1                       Adventure|Children|Fantasy  1995  \n",
       "2                                   Comedy|Romance  1995  \n",
       "3                             Comedy|Drama|Romance  1995  \n",
       "4                                           Comedy  1995  \n",
       "...                                            ...   ...  \n",
       "27273                                       Comedy  2007  \n",
       "27274                                       Comedy  2002  \n",
       "27275                                    Adventure  2014  \n",
       "27276                           (no genres listed)  2001  \n",
       "27277                     Adventure|Fantasy|Horror  2014  \n",
       "\n",
       "[27278 rows x 4 columns]"
      ]
     },
     "execution_count": 15,
     "metadata": {},
     "output_type": "execute_result"
    }
   ],
   "source": [
    "df_movies"
   ]
  },
  {
   "cell_type": "code",
   "execution_count": 16,
   "metadata": {},
   "outputs": [
    {
     "data": {
      "text/html": [
       "<div>\n",
       "<style scoped>\n",
       "    .dataframe tbody tr th:only-of-type {\n",
       "        vertical-align: middle;\n",
       "    }\n",
       "\n",
       "    .dataframe tbody tr th {\n",
       "        vertical-align: top;\n",
       "    }\n",
       "\n",
       "    .dataframe thead th {\n",
       "        text-align: right;\n",
       "    }\n",
       "</style>\n",
       "<table border=\"1\" class=\"dataframe\">\n",
       "  <thead>\n",
       "    <tr style=\"text-align: right;\">\n",
       "      <th></th>\n",
       "      <th>movieId</th>\n",
       "      <th>title</th>\n",
       "      <th>genres</th>\n",
       "      <th>year</th>\n",
       "    </tr>\n",
       "  </thead>\n",
       "  <tbody>\n",
       "    <tr>\n",
       "      <td>0</td>\n",
       "      <td>1</td>\n",
       "      <td>Toy Story (1995)</td>\n",
       "      <td>Adventure|Animation|Children|Comedy|Fantasy</td>\n",
       "      <td>1995</td>\n",
       "    </tr>\n",
       "    <tr>\n",
       "      <td>1</td>\n",
       "      <td>2</td>\n",
       "      <td>Jumanji (1995)</td>\n",
       "      <td>Adventure|Children|Fantasy</td>\n",
       "      <td>1995</td>\n",
       "    </tr>\n",
       "    <tr>\n",
       "      <td>2</td>\n",
       "      <td>3</td>\n",
       "      <td>Grumpier Old Men (1995)</td>\n",
       "      <td>Comedy|Romance</td>\n",
       "      <td>1995</td>\n",
       "    </tr>\n",
       "    <tr>\n",
       "      <td>3</td>\n",
       "      <td>4</td>\n",
       "      <td>Waiting to Exhale (1995)</td>\n",
       "      <td>Comedy|Drama|Romance</td>\n",
       "      <td>1995</td>\n",
       "    </tr>\n",
       "    <tr>\n",
       "      <td>4</td>\n",
       "      <td>5</td>\n",
       "      <td>Father of the Bride Part II (1995)</td>\n",
       "      <td>Comedy</td>\n",
       "      <td>1995</td>\n",
       "    </tr>\n",
       "    <tr>\n",
       "      <td>...</td>\n",
       "      <td>...</td>\n",
       "      <td>...</td>\n",
       "      <td>...</td>\n",
       "      <td>...</td>\n",
       "    </tr>\n",
       "    <tr>\n",
       "      <td>27273</td>\n",
       "      <td>131254</td>\n",
       "      <td>Kein Bund für's Leben (2007)</td>\n",
       "      <td>Comedy</td>\n",
       "      <td>2007</td>\n",
       "    </tr>\n",
       "    <tr>\n",
       "      <td>27274</td>\n",
       "      <td>131256</td>\n",
       "      <td>Feuer, Eis &amp; Dosenbier (2002)</td>\n",
       "      <td>Comedy</td>\n",
       "      <td>2002</td>\n",
       "    </tr>\n",
       "    <tr>\n",
       "      <td>27275</td>\n",
       "      <td>131258</td>\n",
       "      <td>The Pirates (2014)</td>\n",
       "      <td>Adventure</td>\n",
       "      <td>2014</td>\n",
       "    </tr>\n",
       "    <tr>\n",
       "      <td>27276</td>\n",
       "      <td>131260</td>\n",
       "      <td>Rentun Ruusu (2001)</td>\n",
       "      <td>(no genres listed)</td>\n",
       "      <td>2001</td>\n",
       "    </tr>\n",
       "    <tr>\n",
       "      <td>27277</td>\n",
       "      <td>131262</td>\n",
       "      <td>Innocence (2014)</td>\n",
       "      <td>Adventure|Fantasy|Horror</td>\n",
       "      <td>2014</td>\n",
       "    </tr>\n",
       "  </tbody>\n",
       "</table>\n",
       "<p>27278 rows × 4 columns</p>\n",
       "</div>"
      ],
      "text/plain": [
       "       movieId                               title  \\\n",
       "0            1                    Toy Story (1995)   \n",
       "1            2                      Jumanji (1995)   \n",
       "2            3             Grumpier Old Men (1995)   \n",
       "3            4            Waiting to Exhale (1995)   \n",
       "4            5  Father of the Bride Part II (1995)   \n",
       "...        ...                                 ...   \n",
       "27273   131254        Kein Bund für's Leben (2007)   \n",
       "27274   131256       Feuer, Eis & Dosenbier (2002)   \n",
       "27275   131258                  The Pirates (2014)   \n",
       "27276   131260                 Rentun Ruusu (2001)   \n",
       "27277   131262                    Innocence (2014)   \n",
       "\n",
       "                                            genres  year  \n",
       "0      Adventure|Animation|Children|Comedy|Fantasy  1995  \n",
       "1                       Adventure|Children|Fantasy  1995  \n",
       "2                                   Comedy|Romance  1995  \n",
       "3                             Comedy|Drama|Romance  1995  \n",
       "4                                           Comedy  1995  \n",
       "...                                            ...   ...  \n",
       "27273                                       Comedy  2007  \n",
       "27274                                       Comedy  2002  \n",
       "27275                                    Adventure  2014  \n",
       "27276                           (no genres listed)  2001  \n",
       "27277                     Adventure|Fantasy|Horror  2014  \n",
       "\n",
       "[27278 rows x 4 columns]"
      ]
     },
     "execution_count": 16,
     "metadata": {},
     "output_type": "execute_result"
    }
   ],
   "source": [
    "df_movies"
   ]
  },
  {
   "cell_type": "code",
   "execution_count": 17,
   "metadata": {},
   "outputs": [],
   "source": [
    "def get_year(list_years: list) -> int:\n",
    "    if ((len(list_years) == 1)):\n",
    "        return int(list_years[0].replace('–',''))\n",
    "    else:\n",
    "        return int(np.mean([int(x) for x in list_years]))\n",
    "        "
   ]
  },
  {
   "cell_type": "code",
   "execution_count": null,
   "metadata": {},
   "outputs": [],
   "source": []
  },
  {
   "cell_type": "code",
   "execution_count": null,
   "metadata": {},
   "outputs": [],
   "source": []
  },
  {
   "cell_type": "markdown",
   "metadata": {},
   "source": [
    "##### How many generes?"
   ]
  },
  {
   "cell_type": "code",
   "execution_count": 18,
   "metadata": {},
   "outputs": [],
   "source": [
    "df_movies = df_movies.copy()"
   ]
  },
  {
   "cell_type": "code",
   "execution_count": 19,
   "metadata": {},
   "outputs": [],
   "source": [
    "df_movies['list_genres'] = df_movies['genres'].apply(lambda x: list(set(x.split('|'))))\n",
    "df_movies['num_genres'] = df_movies.apply(lambda x: 0 if x['genres'] == \"(no genres listed)\" else len(x['list_genres']), axis = 1)"
   ]
  },
  {
   "cell_type": "code",
   "execution_count": 20,
   "metadata": {},
   "outputs": [
    {
     "data": {
      "text/html": [
       "<div>\n",
       "<style scoped>\n",
       "    .dataframe tbody tr th:only-of-type {\n",
       "        vertical-align: middle;\n",
       "    }\n",
       "\n",
       "    .dataframe tbody tr th {\n",
       "        vertical-align: top;\n",
       "    }\n",
       "\n",
       "    .dataframe thead th {\n",
       "        text-align: right;\n",
       "    }\n",
       "</style>\n",
       "<table border=\"1\" class=\"dataframe\">\n",
       "  <thead>\n",
       "    <tr style=\"text-align: right;\">\n",
       "      <th></th>\n",
       "      <th>movieId</th>\n",
       "      <th>title</th>\n",
       "      <th>genres</th>\n",
       "      <th>year</th>\n",
       "      <th>list_genres</th>\n",
       "      <th>num_genres</th>\n",
       "    </tr>\n",
       "  </thead>\n",
       "  <tbody>\n",
       "    <tr>\n",
       "      <td>0</td>\n",
       "      <td>1</td>\n",
       "      <td>Toy Story (1995)</td>\n",
       "      <td>Adventure|Animation|Children|Comedy|Fantasy</td>\n",
       "      <td>1995</td>\n",
       "      <td>[Comedy, Animation, Fantasy, Children, Adventure]</td>\n",
       "      <td>5</td>\n",
       "    </tr>\n",
       "    <tr>\n",
       "      <td>1</td>\n",
       "      <td>2</td>\n",
       "      <td>Jumanji (1995)</td>\n",
       "      <td>Adventure|Children|Fantasy</td>\n",
       "      <td>1995</td>\n",
       "      <td>[Children, Adventure, Fantasy]</td>\n",
       "      <td>3</td>\n",
       "    </tr>\n",
       "    <tr>\n",
       "      <td>2</td>\n",
       "      <td>3</td>\n",
       "      <td>Grumpier Old Men (1995)</td>\n",
       "      <td>Comedy|Romance</td>\n",
       "      <td>1995</td>\n",
       "      <td>[Comedy, Romance]</td>\n",
       "      <td>2</td>\n",
       "    </tr>\n",
       "    <tr>\n",
       "      <td>3</td>\n",
       "      <td>4</td>\n",
       "      <td>Waiting to Exhale (1995)</td>\n",
       "      <td>Comedy|Drama|Romance</td>\n",
       "      <td>1995</td>\n",
       "      <td>[Comedy, Drama, Romance]</td>\n",
       "      <td>3</td>\n",
       "    </tr>\n",
       "    <tr>\n",
       "      <td>4</td>\n",
       "      <td>5</td>\n",
       "      <td>Father of the Bride Part II (1995)</td>\n",
       "      <td>Comedy</td>\n",
       "      <td>1995</td>\n",
       "      <td>[Comedy]</td>\n",
       "      <td>1</td>\n",
       "    </tr>\n",
       "    <tr>\n",
       "      <td>...</td>\n",
       "      <td>...</td>\n",
       "      <td>...</td>\n",
       "      <td>...</td>\n",
       "      <td>...</td>\n",
       "      <td>...</td>\n",
       "      <td>...</td>\n",
       "    </tr>\n",
       "    <tr>\n",
       "      <td>27272</td>\n",
       "      <td>131252</td>\n",
       "      <td>Forklift Driver Klaus: The First Day on the Jo...</td>\n",
       "      <td>Comedy|Horror</td>\n",
       "      <td>2001</td>\n",
       "      <td>[Comedy, Horror]</td>\n",
       "      <td>2</td>\n",
       "    </tr>\n",
       "    <tr>\n",
       "      <td>27273</td>\n",
       "      <td>131254</td>\n",
       "      <td>Kein Bund für's Leben (2007)</td>\n",
       "      <td>Comedy</td>\n",
       "      <td>2007</td>\n",
       "      <td>[Comedy]</td>\n",
       "      <td>1</td>\n",
       "    </tr>\n",
       "    <tr>\n",
       "      <td>27274</td>\n",
       "      <td>131256</td>\n",
       "      <td>Feuer, Eis &amp; Dosenbier (2002)</td>\n",
       "      <td>Comedy</td>\n",
       "      <td>2002</td>\n",
       "      <td>[Comedy]</td>\n",
       "      <td>1</td>\n",
       "    </tr>\n",
       "    <tr>\n",
       "      <td>27275</td>\n",
       "      <td>131258</td>\n",
       "      <td>The Pirates (2014)</td>\n",
       "      <td>Adventure</td>\n",
       "      <td>2014</td>\n",
       "      <td>[Adventure]</td>\n",
       "      <td>1</td>\n",
       "    </tr>\n",
       "    <tr>\n",
       "      <td>27277</td>\n",
       "      <td>131262</td>\n",
       "      <td>Innocence (2014)</td>\n",
       "      <td>Adventure|Fantasy|Horror</td>\n",
       "      <td>2014</td>\n",
       "      <td>[Fantasy, Adventure, Horror]</td>\n",
       "      <td>3</td>\n",
       "    </tr>\n",
       "  </tbody>\n",
       "</table>\n",
       "<p>27032 rows × 6 columns</p>\n",
       "</div>"
      ],
      "text/plain": [
       "       movieId                                              title  \\\n",
       "0            1                                   Toy Story (1995)   \n",
       "1            2                                     Jumanji (1995)   \n",
       "2            3                            Grumpier Old Men (1995)   \n",
       "3            4                           Waiting to Exhale (1995)   \n",
       "4            5                 Father of the Bride Part II (1995)   \n",
       "...        ...                                                ...   \n",
       "27272   131252  Forklift Driver Klaus: The First Day on the Jo...   \n",
       "27273   131254                       Kein Bund für's Leben (2007)   \n",
       "27274   131256                      Feuer, Eis & Dosenbier (2002)   \n",
       "27275   131258                                 The Pirates (2014)   \n",
       "27277   131262                                   Innocence (2014)   \n",
       "\n",
       "                                            genres  year  \\\n",
       "0      Adventure|Animation|Children|Comedy|Fantasy  1995   \n",
       "1                       Adventure|Children|Fantasy  1995   \n",
       "2                                   Comedy|Romance  1995   \n",
       "3                             Comedy|Drama|Romance  1995   \n",
       "4                                           Comedy  1995   \n",
       "...                                            ...   ...   \n",
       "27272                                Comedy|Horror  2001   \n",
       "27273                                       Comedy  2007   \n",
       "27274                                       Comedy  2002   \n",
       "27275                                    Adventure  2014   \n",
       "27277                     Adventure|Fantasy|Horror  2014   \n",
       "\n",
       "                                             list_genres  num_genres  \n",
       "0      [Comedy, Animation, Fantasy, Children, Adventure]           5  \n",
       "1                         [Children, Adventure, Fantasy]           3  \n",
       "2                                      [Comedy, Romance]           2  \n",
       "3                               [Comedy, Drama, Romance]           3  \n",
       "4                                               [Comedy]           1  \n",
       "...                                                  ...         ...  \n",
       "27272                                   [Comedy, Horror]           2  \n",
       "27273                                           [Comedy]           1  \n",
       "27274                                           [Comedy]           1  \n",
       "27275                                        [Adventure]           1  \n",
       "27277                       [Fantasy, Adventure, Horror]           3  \n",
       "\n",
       "[27032 rows x 6 columns]"
      ]
     },
     "execution_count": 20,
     "metadata": {},
     "output_type": "execute_result"
    }
   ],
   "source": [
    "df_movies[df_movies['genres'] != \"(no genres listed)\"]"
   ]
  },
  {
   "cell_type": "code",
   "execution_count": 21,
   "metadata": {},
   "outputs": [
    {
     "data": {
      "image/png": "[encoded data removed]",
      "text/plain": [
       "<Figure size 432x288 with 1 Axes>"
      ]
     },
     "metadata": {
      "needs_background": "light"
     },
     "output_type": "display_data"
    }
   ],
   "source": [
    "df_movies['num_genres'].hist()\n",
    "plt.show()"
   ]
  },
  {
   "cell_type": "code",
   "execution_count": 22,
   "metadata": {},
   "outputs": [
    {
     "data": {
      "text/plain": [
       "array([ 0,  1,  2,  3,  4,  5,  6,  7,  8, 10], dtype=int64)"
      ]
     },
     "execution_count": 22,
     "metadata": {},
     "output_type": "execute_result"
    }
   ],
   "source": [
    "np.sort(df_movies['num_genres'].unique())"
   ]
  },
  {
   "cell_type": "code",
   "execution_count": 23,
   "metadata": {},
   "outputs": [
    {
     "name": "stdout",
     "output_type": "stream",
     "text": [
      "19\n",
      "['Action' 'Adventure' 'Animation' 'Children' 'Comedy' 'Crime'\n",
      " 'Documentary' 'Drama' 'Fantasy' 'Film-Noir' 'Horror' 'IMAX' 'Musical'\n",
      " 'Mystery' 'Romance' 'Sci-Fi' 'Thriller' 'War' 'Western']\n"
     ]
    }
   ],
   "source": [
    "unique_genres = np.sort(df_movies[(df_movies['num_genres'] == 1)]['genres'].unique())\n",
    "num_unique_genres = len(unique_genres)\n",
    "\n",
    "\n",
    "print(num_unique_genres)\n",
    "print(unique_genres)"
   ]
  },
  {
   "cell_type": "code",
   "execution_count": 24,
   "metadata": {},
   "outputs": [
    {
     "data": {
      "text/plain": [
       "['Mystery',\n",
       " 'Comedy',\n",
       " 'Horror',\n",
       " 'Action',\n",
       " 'Film-Noir',\n",
       " 'Crime',\n",
       " 'Drama',\n",
       " 'Thriller',\n",
       " 'Western',\n",
       " 'Adventure']"
      ]
     },
     "execution_count": 24,
     "metadata": {},
     "output_type": "execute_result"
    }
   ],
   "source": [
    "df_movies[df_movies['num_genres'] == 10]['list_genres'][16024]"
   ]
  },
  {
   "cell_type": "markdown",
   "metadata": {},
   "source": [
    "#### What is the distribution of Mystery movies during the years?"
   ]
  },
  {
   "cell_type": "code",
   "execution_count": 25,
   "metadata": {},
   "outputs": [
    {
     "data": {
      "text/html": [
       "<div>\n",
       "<style scoped>\n",
       "    .dataframe tbody tr th:only-of-type {\n",
       "        vertical-align: middle;\n",
       "    }\n",
       "\n",
       "    .dataframe tbody tr th {\n",
       "        vertical-align: top;\n",
       "    }\n",
       "\n",
       "    .dataframe thead th {\n",
       "        text-align: right;\n",
       "    }\n",
       "</style>\n",
       "<table border=\"1\" class=\"dataframe\">\n",
       "  <thead>\n",
       "    <tr style=\"text-align: right;\">\n",
       "      <th></th>\n",
       "      <th>movieId</th>\n",
       "      <th>title</th>\n",
       "      <th>genres</th>\n",
       "      <th>year</th>\n",
       "      <th>list_genres</th>\n",
       "      <th>num_genres</th>\n",
       "    </tr>\n",
       "  </thead>\n",
       "  <tbody>\n",
       "    <tr>\n",
       "      <td>0</td>\n",
       "      <td>1</td>\n",
       "      <td>Toy Story (1995)</td>\n",
       "      <td>Adventure|Animation|Children|Comedy|Fantasy</td>\n",
       "      <td>1995</td>\n",
       "      <td>[Comedy, Animation, Fantasy, Children, Adventure]</td>\n",
       "      <td>5</td>\n",
       "    </tr>\n",
       "    <tr>\n",
       "      <td>1</td>\n",
       "      <td>2</td>\n",
       "      <td>Jumanji (1995)</td>\n",
       "      <td>Adventure|Children|Fantasy</td>\n",
       "      <td>1995</td>\n",
       "      <td>[Children, Adventure, Fantasy]</td>\n",
       "      <td>3</td>\n",
       "    </tr>\n",
       "    <tr>\n",
       "      <td>2</td>\n",
       "      <td>3</td>\n",
       "      <td>Grumpier Old Men (1995)</td>\n",
       "      <td>Comedy|Romance</td>\n",
       "      <td>1995</td>\n",
       "      <td>[Comedy, Romance]</td>\n",
       "      <td>2</td>\n",
       "    </tr>\n",
       "    <tr>\n",
       "      <td>3</td>\n",
       "      <td>4</td>\n",
       "      <td>Waiting to Exhale (1995)</td>\n",
       "      <td>Comedy|Drama|Romance</td>\n",
       "      <td>1995</td>\n",
       "      <td>[Comedy, Drama, Romance]</td>\n",
       "      <td>3</td>\n",
       "    </tr>\n",
       "    <tr>\n",
       "      <td>4</td>\n",
       "      <td>5</td>\n",
       "      <td>Father of the Bride Part II (1995)</td>\n",
       "      <td>Comedy</td>\n",
       "      <td>1995</td>\n",
       "      <td>[Comedy]</td>\n",
       "      <td>1</td>\n",
       "    </tr>\n",
       "    <tr>\n",
       "      <td>5</td>\n",
       "      <td>6</td>\n",
       "      <td>Heat (1995)</td>\n",
       "      <td>Action|Crime|Thriller</td>\n",
       "      <td>1995</td>\n",
       "      <td>[Action, Thriller, Crime]</td>\n",
       "      <td>3</td>\n",
       "    </tr>\n",
       "  </tbody>\n",
       "</table>\n",
       "</div>"
      ],
      "text/plain": [
       "   movieId                               title  \\\n",
       "0        1                    Toy Story (1995)   \n",
       "1        2                      Jumanji (1995)   \n",
       "2        3             Grumpier Old Men (1995)   \n",
       "3        4            Waiting to Exhale (1995)   \n",
       "4        5  Father of the Bride Part II (1995)   \n",
       "5        6                         Heat (1995)   \n",
       "\n",
       "                                        genres  year  \\\n",
       "0  Adventure|Animation|Children|Comedy|Fantasy  1995   \n",
       "1                   Adventure|Children|Fantasy  1995   \n",
       "2                               Comedy|Romance  1995   \n",
       "3                         Comedy|Drama|Romance  1995   \n",
       "4                                       Comedy  1995   \n",
       "5                        Action|Crime|Thriller  1995   \n",
       "\n",
       "                                         list_genres  num_genres  \n",
       "0  [Comedy, Animation, Fantasy, Children, Adventure]           5  \n",
       "1                     [Children, Adventure, Fantasy]           3  \n",
       "2                                  [Comedy, Romance]           2  \n",
       "3                           [Comedy, Drama, Romance]           3  \n",
       "4                                           [Comedy]           1  \n",
       "5                          [Action, Thriller, Crime]           3  "
      ]
     },
     "execution_count": 25,
     "metadata": {},
     "output_type": "execute_result"
    }
   ],
   "source": [
    "df_movies.head(6)"
   ]
  },
  {
   "cell_type": "code",
   "execution_count": 26,
   "metadata": {},
   "outputs": [],
   "source": [
    "df_movies['mystery_movie'] = df_movies['list_genres'].apply(lambda x: 'Mystery' in x)"
   ]
  },
  {
   "cell_type": "code",
   "execution_count": 27,
   "metadata": {},
   "outputs": [
    {
     "data": {
      "text/html": [
       "<div>\n",
       "<style scoped>\n",
       "    .dataframe tbody tr th:only-of-type {\n",
       "        vertical-align: middle;\n",
       "    }\n",
       "\n",
       "    .dataframe tbody tr th {\n",
       "        vertical-align: top;\n",
       "    }\n",
       "\n",
       "    .dataframe thead th {\n",
       "        text-align: right;\n",
       "    }\n",
       "</style>\n",
       "<table border=\"1\" class=\"dataframe\">\n",
       "  <thead>\n",
       "    <tr style=\"text-align: right;\">\n",
       "      <th></th>\n",
       "      <th>movieId</th>\n",
       "      <th>title</th>\n",
       "      <th>genres</th>\n",
       "      <th>year</th>\n",
       "      <th>list_genres</th>\n",
       "      <th>num_genres</th>\n",
       "      <th>mystery_movie</th>\n",
       "    </tr>\n",
       "  </thead>\n",
       "  <tbody>\n",
       "    <tr>\n",
       "      <td>18305</td>\n",
       "      <td>91503</td>\n",
       "      <td>Blind Justice (Hævnens nat) (1916)</td>\n",
       "      <td>Drama|Mystery|Thriller</td>\n",
       "      <td>1916</td>\n",
       "      <td>[Mystery, Drama, Thriller]</td>\n",
       "      <td>3</td>\n",
       "      <td>True</td>\n",
       "    </tr>\n",
       "    <tr>\n",
       "      <td>18163</td>\n",
       "      <td>90907</td>\n",
       "      <td>Eerie Tales (Unheimliche Geschichten) (1919)</td>\n",
       "      <td>Fantasy|Horror|Mystery</td>\n",
       "      <td>1919</td>\n",
       "      <td>[Fantasy, Horror, Mystery]</td>\n",
       "      <td>3</td>\n",
       "      <td>True</td>\n",
       "    </tr>\n",
       "    <tr>\n",
       "      <td>16097</td>\n",
       "      <td>81435</td>\n",
       "      <td>Haunted Castle, The (Schloß Vogeloed) (1921)</td>\n",
       "      <td>Crime|Drama|Horror|Mystery</td>\n",
       "      <td>1921</td>\n",
       "      <td>[Mystery, Horror, Drama, Crime]</td>\n",
       "      <td>4</td>\n",
       "      <td>True</td>\n",
       "    </tr>\n",
       "    <tr>\n",
       "      <td>4672</td>\n",
       "      <td>4768</td>\n",
       "      <td>Dr. Mabuse: The Gambler (Dr. Mabuse, der Spiel...</td>\n",
       "      <td>Crime|Mystery|Thriller</td>\n",
       "      <td>1922</td>\n",
       "      <td>[Mystery, Thriller, Crime]</td>\n",
       "      <td>3</td>\n",
       "      <td>True</td>\n",
       "    </tr>\n",
       "    <tr>\n",
       "      <td>8346</td>\n",
       "      <td>25745</td>\n",
       "      <td>Man from Beyond, The (1922)</td>\n",
       "      <td>Mystery</td>\n",
       "      <td>1922</td>\n",
       "      <td>[Mystery]</td>\n",
       "      <td>1</td>\n",
       "      <td>True</td>\n",
       "    </tr>\n",
       "    <tr>\n",
       "      <td>...</td>\n",
       "      <td>...</td>\n",
       "      <td>...</td>\n",
       "      <td>...</td>\n",
       "      <td>...</td>\n",
       "      <td>...</td>\n",
       "      <td>...</td>\n",
       "      <td>...</td>\n",
       "    </tr>\n",
       "    <tr>\n",
       "      <td>25786</td>\n",
       "      <td>122147</td>\n",
       "      <td>Beck - Familjen (2015)</td>\n",
       "      <td>Crime|Mystery|Thriller</td>\n",
       "      <td>2015</td>\n",
       "      <td>[Mystery, Thriller, Crime]</td>\n",
       "      <td>3</td>\n",
       "      <td>True</td>\n",
       "    </tr>\n",
       "    <tr>\n",
       "      <td>26573</td>\n",
       "      <td>127311</td>\n",
       "      <td>The Forbidden Room (2015)</td>\n",
       "      <td>Comedy|Drama|Mystery|Romance</td>\n",
       "      <td>2015</td>\n",
       "      <td>[Mystery, Comedy, Drama, Romance]</td>\n",
       "      <td>4</td>\n",
       "      <td>True</td>\n",
       "    </tr>\n",
       "    <tr>\n",
       "      <td>27045</td>\n",
       "      <td>129937</td>\n",
       "      <td>Run All Night (2015)</td>\n",
       "      <td>Action|Crime|Drama|Mystery|Thriller</td>\n",
       "      <td>2015</td>\n",
       "      <td>[Mystery, Action, Crime, Drama, Thriller]</td>\n",
       "      <td>5</td>\n",
       "      <td>True</td>\n",
       "    </tr>\n",
       "    <tr>\n",
       "      <td>25495</td>\n",
       "      <td>120757</td>\n",
       "      <td>Beck - Rum 302 (2015)</td>\n",
       "      <td>Crime|Mystery|Thriller</td>\n",
       "      <td>2015</td>\n",
       "      <td>[Mystery, Thriller, Crime]</td>\n",
       "      <td>3</td>\n",
       "      <td>True</td>\n",
       "    </tr>\n",
       "    <tr>\n",
       "      <td>26749</td>\n",
       "      <td>128612</td>\n",
       "      <td>Body/Cialo</td>\n",
       "      <td>Comedy|Drama|Mystery</td>\n",
       "      <td>NaN</td>\n",
       "      <td>[Mystery, Comedy, Drama]</td>\n",
       "      <td>3</td>\n",
       "      <td>True</td>\n",
       "    </tr>\n",
       "  </tbody>\n",
       "</table>\n",
       "<p>1514 rows × 7 columns</p>\n",
       "</div>"
      ],
      "text/plain": [
       "       movieId                                              title  \\\n",
       "18305    91503                 Blind Justice (Hævnens nat) (1916)   \n",
       "18163    90907       Eerie Tales (Unheimliche Geschichten) (1919)   \n",
       "16097    81435       Haunted Castle, The (Schloß Vogeloed) (1921)   \n",
       "4672      4768  Dr. Mabuse: The Gambler (Dr. Mabuse, der Spiel...   \n",
       "8346     25745                        Man from Beyond, The (1922)   \n",
       "...        ...                                                ...   \n",
       "25786   122147                             Beck - Familjen (2015)   \n",
       "26573   127311                          The Forbidden Room (2015)   \n",
       "27045   129937                               Run All Night (2015)   \n",
       "25495   120757                              Beck - Rum 302 (2015)   \n",
       "26749   128612                                         Body/Cialo   \n",
       "\n",
       "                                    genres  year  \\\n",
       "18305               Drama|Mystery|Thriller  1916   \n",
       "18163               Fantasy|Horror|Mystery  1919   \n",
       "16097           Crime|Drama|Horror|Mystery  1921   \n",
       "4672                Crime|Mystery|Thriller  1922   \n",
       "8346                               Mystery  1922   \n",
       "...                                    ...   ...   \n",
       "25786               Crime|Mystery|Thriller  2015   \n",
       "26573         Comedy|Drama|Mystery|Romance  2015   \n",
       "27045  Action|Crime|Drama|Mystery|Thriller  2015   \n",
       "25495               Crime|Mystery|Thriller  2015   \n",
       "26749                 Comedy|Drama|Mystery   NaN   \n",
       "\n",
       "                                     list_genres  num_genres  mystery_movie  \n",
       "18305                 [Mystery, Drama, Thriller]           3           True  \n",
       "18163                 [Fantasy, Horror, Mystery]           3           True  \n",
       "16097            [Mystery, Horror, Drama, Crime]           4           True  \n",
       "4672                  [Mystery, Thriller, Crime]           3           True  \n",
       "8346                                   [Mystery]           1           True  \n",
       "...                                          ...         ...            ...  \n",
       "25786                 [Mystery, Thriller, Crime]           3           True  \n",
       "26573          [Mystery, Comedy, Drama, Romance]           4           True  \n",
       "27045  [Mystery, Action, Crime, Drama, Thriller]           5           True  \n",
       "25495                 [Mystery, Thriller, Crime]           3           True  \n",
       "26749                   [Mystery, Comedy, Drama]           3           True  \n",
       "\n",
       "[1514 rows x 7 columns]"
      ]
     },
     "execution_count": 27,
     "metadata": {},
     "output_type": "execute_result"
    }
   ],
   "source": [
    "df_movies[df_movies['mystery_movie']].sort_values(by=['year'])"
   ]
  },
  {
   "cell_type": "code",
   "execution_count": 48,
   "metadata": {},
   "outputs": [],
   "source": [
    "def plot_distribution_year(initial_year: str, end_year: str):\n",
    "    df_movies[ df_movies['mystery_movie'] & (df_movies['year'] >= initial_year) & (df_movies['year'] <= end_year)].rename(columns={'movieId':'number_movies'})[['year','number_movies']].groupby('year').count().plot.bar()\n",
    "    plt.show()\n",
    "    "
   ]
  },
  {
   "cell_type": "code",
   "execution_count": 56,
   "metadata": {},
   "outputs": [
    {
     "data": {
      "image/png": "[encoded data removed]",
      "text/plain": [
       "<Figure size 432x288 with 1 Axes>"
      ]
     },
     "metadata": {
      "needs_background": "light"
     },
     "output_type": "display_data"
    }
   ],
   "source": [
    "plot_distribution_year('1910','1950')"
   ]
  },
  {
   "cell_type": "code",
   "execution_count": 57,
   "metadata": {},
   "outputs": [
    {
     "data": {
      "image/png": "[encoded data removed]",
      "text/plain": [
       "<Figure size 432x288 with 1 Axes>"
      ]
     },
     "metadata": {
      "needs_background": "light"
     },
     "output_type": "display_data"
    }
   ],
   "source": [
    "plot_distribution_year('1950','1980')"
   ]
  },
  {
   "cell_type": "code",
   "execution_count": 58,
   "metadata": {},
   "outputs": [
    {
     "data": {
      "image/png": "[encoded data removed]",
      "text/plain": [
       "<Figure size 432x288 with 1 Axes>"
      ]
     },
     "metadata": {
      "needs_background": "light"
     },
     "output_type": "display_data"
    }
   ],
   "source": [
    "plot_distribution_year('1980','2020')"
   ]
  },
  {
   "cell_type": "code",
   "execution_count": 29,
   "metadata": {},
   "outputs": [],
   "source": [
    "# Rough initial work..\n",
    "\n",
    "#df['year'] = df['title'].apply(lambda x: x[-6:].replace('(','').replace(')','').strip())\n",
    "#df['year'] = df['title'].apply(lambda x: x[x.find(\"(\")+1:x.find(\")\")])\n",
    "\n",
    "#df['year'] = df['title'].apply(lambda x: re.findall('\\(.*?\\)', x))"
   ]
  },
  {
   "cell_type": "markdown",
   "metadata": {},
   "source": [
    "## Work of facilitators continue"
   ]
  },
  {
   "cell_type": "code",
   "execution_count": 30,
   "metadata": {},
   "outputs": [
    {
     "name": "stdout",
     "output_type": "stream",
     "text": [
      "The movies dataset has columns: ['movieId' 'title' 'genres']\n",
      "The ratings dataset has columns: ['userId' 'movieId' 'rating' 'timestamp']\n"
     ]
    }
   ],
   "source": [
    "# What columns exist in the data?\n",
    "print(f\"The movies dataset has columns: {movies.columns.values}\")\n",
    "print(f\"The ratings dataset has columns: {ratings.columns.values}\")"
   ]
  },
  {
   "cell_type": "code",
   "execution_count": 31,
   "metadata": {},
   "outputs": [
    {
     "data": {
      "text/plain": [
       "[0.5, 1.0, 1.5, 2.0, 2.5, 3.0, 3.5, 4.0, 4.5, 5.0]"
      ]
     },
     "execution_count": 31,
     "metadata": {},
     "output_type": "execute_result"
    }
   ],
   "source": [
    "# What are the possible rankings?\n",
    "sorted(ratings.rating.unique())"
   ]
  },
  {
   "cell_type": "code",
   "execution_count": 32,
   "metadata": {
    "colab": {
     "base_uri": "https://localhost:8080/",
     "height": 315
    },
    "colab_type": "code",
    "executionInfo": {
     "elapsed": 1127,
     "status": "ok",
     "timestamp": 1572481082349,
     "user": {
      "displayName": "Ella Chen",
      "photoUrl": "https://lh3.googleusercontent.com/a-/AAuE7mDkHxBI3MfubseoYi1ejs9VfrRF0XXcAX0H7Y529g=s64",
      "userId": "06766956205880688168"
     },
     "user_tz": 240
    },
    "id": "XYFhNGYJV7qQ",
    "outputId": "3a87d197-abda-43c0-a482-a74c9828f47c"
   },
   "outputs": [
    {
     "data": {
      "image/png": "[encoded data removed]",
      "text/plain": [
       "<Figure size 432x288 with 1 Axes>"
      ]
     },
     "metadata": {
      "needs_background": "light"
     },
     "output_type": "display_data"
    }
   ],
   "source": [
    "# How are the rankings distributed?\n",
    "ratings[['userId', 'rating']].groupby('userId').mean().hist()\n",
    "plt.show()"
   ]
  },
  {
   "cell_type": "code",
   "execution_count": 33,
   "metadata": {
    "colab": {},
    "colab_type": "code",
    "id": "R241VA20V-O8"
   },
   "outputs": [
    {
     "name": "stdout",
     "output_type": "stream",
     "text": [
      "The average rating is 3.53\n"
     ]
    }
   ],
   "source": [
    "# What is the average ranking? \n",
    "print(f\"The average rating is {round(ratings.rating.mean(), 2)}\")"
   ]
  },
  {
   "cell_type": "markdown",
   "metadata": {
    "colab_type": "text",
    "id": "flHJMf8EWCFT"
   },
   "source": [
    "Note that the data is quite simple, we only have some info about the movies, which takes the form "
   ]
  },
  {
   "cell_type": "code",
   "execution_count": 34,
   "metadata": {
    "colab": {
     "base_uri": "https://localhost:8080/",
     "height": 80
    },
    "colab_type": "code",
    "executionInfo": {
     "elapsed": 559,
     "status": "ok",
     "timestamp": 1572366477096,
     "user": {
      "displayName": "Ella Chen",
      "photoUrl": "https://lh3.googleusercontent.com/a-/AAuE7mDkHxBI3MfubseoYi1ejs9VfrRF0XXcAX0H7Y529g=s64",
      "userId": "06766956205880688168"
     },
     "user_tz": 240
    },
    "id": "as4Z4bb1WEEi",
    "outputId": "5c507b61-7cd7-4cf6-cace-9e4216e6892c"
   },
   "outputs": [
    {
     "data": {
      "text/html": [
       "<div>\n",
       "<style scoped>\n",
       "    .dataframe tbody tr th:only-of-type {\n",
       "        vertical-align: middle;\n",
       "    }\n",
       "\n",
       "    .dataframe tbody tr th {\n",
       "        vertical-align: top;\n",
       "    }\n",
       "\n",
       "    .dataframe thead th {\n",
       "        text-align: right;\n",
       "    }\n",
       "</style>\n",
       "<table border=\"1\" class=\"dataframe\">\n",
       "  <thead>\n",
       "    <tr style=\"text-align: right;\">\n",
       "      <th></th>\n",
       "      <th>movieId</th>\n",
       "      <th>title</th>\n",
       "      <th>genres</th>\n",
       "    </tr>\n",
       "  </thead>\n",
       "  <tbody>\n",
       "    <tr>\n",
       "      <td>23880</td>\n",
       "      <td>113428</td>\n",
       "      <td>Maniacts (2001)</td>\n",
       "      <td>Action|Comedy|Drama|Horror|Romance</td>\n",
       "    </tr>\n",
       "  </tbody>\n",
       "</table>\n",
       "</div>"
      ],
      "text/plain": [
       "       movieId            title                              genres\n",
       "23880   113428  Maniacts (2001)  Action|Comedy|Drama|Horror|Romance"
      ]
     },
     "execution_count": 34,
     "metadata": {},
     "output_type": "execute_result"
    }
   ],
   "source": [
    "movies.sample(1)"
   ]
  },
  {
   "cell_type": "code",
   "execution_count": 35,
   "metadata": {
    "colab": {
     "base_uri": "https://localhost:8080/",
     "height": 80
    },
    "colab_type": "code",
    "executionInfo": {
     "elapsed": 1654,
     "status": "ok",
     "timestamp": 1572366484880,
     "user": {
      "displayName": "Ella Chen",
      "photoUrl": "https://lh3.googleusercontent.com/a-/AAuE7mDkHxBI3MfubseoYi1ejs9VfrRF0XXcAX0H7Y529g=s64",
      "userId": "06766956205880688168"
     },
     "user_tz": 240
    },
    "id": "O_Tyqr_vWGS4",
    "outputId": "6f683e50-724d-4ee4-8d0a-f05cc781dbc6"
   },
   "outputs": [
    {
     "data": {
      "text/html": [
       "<div>\n",
       "<style scoped>\n",
       "    .dataframe tbody tr th:only-of-type {\n",
       "        vertical-align: middle;\n",
       "    }\n",
       "\n",
       "    .dataframe tbody tr th {\n",
       "        vertical-align: top;\n",
       "    }\n",
       "\n",
       "    .dataframe thead th {\n",
       "        text-align: right;\n",
       "    }\n",
       "</style>\n",
       "<table border=\"1\" class=\"dataframe\">\n",
       "  <thead>\n",
       "    <tr style=\"text-align: right;\">\n",
       "      <th></th>\n",
       "      <th>userId</th>\n",
       "      <th>movieId</th>\n",
       "      <th>rating</th>\n",
       "      <th>timestamp</th>\n",
       "    </tr>\n",
       "  </thead>\n",
       "  <tbody>\n",
       "    <tr>\n",
       "      <td>1006766</td>\n",
       "      <td>6813</td>\n",
       "      <td>1907</td>\n",
       "      <td>4.0</td>\n",
       "      <td>1003523268</td>\n",
       "    </tr>\n",
       "  </tbody>\n",
       "</table>\n",
       "</div>"
      ],
      "text/plain": [
       "         userId  movieId  rating   timestamp\n",
       "1006766    6813     1907     4.0  1003523268"
      ]
     },
     "execution_count": 35,
     "metadata": {},
     "output_type": "execute_result"
    }
   ],
   "source": [
    "ratings.sample(1)"
   ]
  },
  {
   "cell_type": "markdown",
   "metadata": {
    "colab_type": "text",
    "id": "2k6jOnMfWNWp"
   },
   "source": [
    "Even though the information about the movies could help us create better recommenders, we won't be using it. Instead we only focus on the ratings dataframe. We can count the relevant users and movies from this:"
   ]
  },
  {
   "cell_type": "code",
   "execution_count": 36,
   "metadata": {
    "colab": {
     "base_uri": "https://localhost:8080/",
     "height": 102
    },
    "colab_type": "code",
    "executionInfo": {
     "elapsed": 8320,
     "status": "ok",
     "timestamp": 1572366532303,
     "user": {
      "displayName": "Ella Chen",
      "photoUrl": "https://lh3.googleusercontent.com/a-/AAuE7mDkHxBI3MfubseoYi1ejs9VfrRF0XXcAX0H7Y529g=s64",
      "userId": "06766956205880688168"
     },
     "user_tz": 240
    },
    "id": "XoFBsGiRWOrw",
    "outputId": "910d4fb0-7d7e-4851-e13c-e3c85da102c4"
   },
   "outputs": [
    {
     "data": {
      "text/plain": [
       "userId         138493\n",
       "movieId         26744\n",
       "rating             10\n",
       "timestamp    15351121\n",
       "dtype: int64"
      ]
     },
     "execution_count": 36,
     "metadata": {},
     "output_type": "execute_result"
    }
   ],
   "source": [
    "ratings.nunique()"
   ]
  },
  {
   "cell_type": "markdown",
   "metadata": {
    "colab_type": "text",
    "id": "KM-7DSU9WUJv"
   },
   "source": [
    "~ 139K users and ~27K movies, rated in a 10 point scale. We can also plot two important pieces of information:\n",
    "- The histogram of how many ratings each movie has.\n",
    "- The histogram of how many ratings each user gives."
   ]
  },
  {
   "cell_type": "code",
   "execution_count": 37,
   "metadata": {},
   "outputs": [
    {
     "data": {
      "image/png": "[encoded data removed]",
      "text/plain": [
       "<Figure size 432x288 with 1 Axes>"
      ]
     },
     "metadata": {
      "needs_background": "light"
     },
     "output_type": "display_data"
    },
    {
     "data": {
      "image/png": "[encoded data removed]",
      "text/plain": [
       "<Figure size 432x288 with 1 Axes>"
      ]
     },
     "metadata": {
      "needs_background": "light"
     },
     "output_type": "display_data"
    }
   ],
   "source": [
    "ratings.groupby(\"userId\").agg({\"movieId\":len}).hist(bins=30)\n",
    "ratings.groupby(\"movieId\").agg({\"userId\":len}).hist(bins=30)\n",
    "plt.show()"
   ]
  },
  {
   "cell_type": "code",
   "execution_count": 38,
   "metadata": {
    "colab": {
     "base_uri": "https://localhost:8080/",
     "height": 545
    },
    "colab_type": "code",
    "executionInfo": {
     "elapsed": 3230,
     "status": "ok",
     "timestamp": 1572366547528,
     "user": {
      "displayName": "Ella Chen",
      "photoUrl": "https://lh3.googleusercontent.com/a-/AAuE7mDkHxBI3MfubseoYi1ejs9VfrRF0XXcAX0H7Y529g=s64",
      "userId": "06766956205880688168"
     },
     "user_tz": 240
    },
    "id": "oqgFZAhMWUqj",
    "outputId": "b3ad8b82-e858-41f4-f8d2-6a2c6382f0ac"
   },
   "outputs": [
    {
     "data": {
      "image/png": "[encoded data removed]",
      "text/plain": [
       "<Figure size 432x288 with 1 Axes>"
      ]
     },
     "metadata": {
      "needs_background": "light"
     },
     "output_type": "display_data"
    },
    {
     "data": {
      "image/png": "[encoded data removed]",
      "text/plain": [
       "<Figure size 432x288 with 1 Axes>"
      ]
     },
     "metadata": {
      "needs_background": "light"
     },
     "output_type": "display_data"
    }
   ],
   "source": [
    "np.log10(ratings.groupby(\"userId\").agg({\"movieId\":len})).hist(bins=30)\n",
    "np.log10(ratings.groupby(\"movieId\").agg({\"userId\":len})).hist(bins=30)\n",
    "plt.show()"
   ]
  },
  {
   "cell_type": "markdown",
   "metadata": {
    "colab_type": "text",
    "id": "uyBD9Gd0Way5"
   },
   "source": [
    "The distribution (note the log) shows that most movies are rated by a handfull of users, and that most users don't rate many movies. Furthermore, note that a user x movie matrix should contain 756 million entries, but there are only 20 million ratings. this is only ~2.6 % of non-zero entries. That is we are in a sparse situation (which is not as bad in this case as it is in some other settings)\n",
    "\n",
    "### Exercise:\n",
    "1. According to the info above, for which movies/users is easier to make recommendations? Find at least one user or movie that you suspect is troublesome.\n",
    "2. The dataframe encodes part of the user-item rating matrix. Suppose that you want to write this matrix, what is the size in GB of this matrix? "
   ]
  },
  {
   "cell_type": "code",
   "execution_count": 39,
   "metadata": {
    "colab": {},
    "colab_type": "code",
    "id": "5H9aIuIrWcHg"
   },
   "outputs": [
    {
     "data": {
      "text/plain": [
       "(27278, 3)"
      ]
     },
     "execution_count": 39,
     "metadata": {},
     "output_type": "execute_result"
    }
   ],
   "source": [
    "movies.shape"
   ]
  },
  {
   "cell_type": "code",
   "execution_count": 40,
   "metadata": {},
   "outputs": [
    {
     "data": {
      "text/plain": [
       "(20000263, 4)"
      ]
     },
     "execution_count": 40,
     "metadata": {},
     "output_type": "execute_result"
    }
   ],
   "source": [
    "ratings.shape"
   ]
  },
  {
   "cell_type": "code",
   "execution_count": 41,
   "metadata": {},
   "outputs": [
    {
     "data": {
      "text/html": [
       "<div>\n",
       "<style scoped>\n",
       "    .dataframe tbody tr th:only-of-type {\n",
       "        vertical-align: middle;\n",
       "    }\n",
       "\n",
       "    .dataframe tbody tr th {\n",
       "        vertical-align: top;\n",
       "    }\n",
       "\n",
       "    .dataframe thead th {\n",
       "        text-align: right;\n",
       "    }\n",
       "</style>\n",
       "<table border=\"1\" class=\"dataframe\">\n",
       "  <thead>\n",
       "    <tr style=\"text-align: right;\">\n",
       "      <th></th>\n",
       "      <th>movieId</th>\n",
       "      <th>title</th>\n",
       "      <th>genres</th>\n",
       "    </tr>\n",
       "  </thead>\n",
       "  <tbody>\n",
       "    <tr>\n",
       "      <td>0</td>\n",
       "      <td>1</td>\n",
       "      <td>Toy Story (1995)</td>\n",
       "      <td>Adventure|Animation|Children|Comedy|Fantasy</td>\n",
       "    </tr>\n",
       "    <tr>\n",
       "      <td>1</td>\n",
       "      <td>2</td>\n",
       "      <td>Jumanji (1995)</td>\n",
       "      <td>Adventure|Children|Fantasy</td>\n",
       "    </tr>\n",
       "    <tr>\n",
       "      <td>2</td>\n",
       "      <td>3</td>\n",
       "      <td>Grumpier Old Men (1995)</td>\n",
       "      <td>Comedy|Romance</td>\n",
       "    </tr>\n",
       "  </tbody>\n",
       "</table>\n",
       "</div>"
      ],
      "text/plain": [
       "   movieId                    title  \\\n",
       "0        1         Toy Story (1995)   \n",
       "1        2           Jumanji (1995)   \n",
       "2        3  Grumpier Old Men (1995)   \n",
       "\n",
       "                                        genres  \n",
       "0  Adventure|Animation|Children|Comedy|Fantasy  \n",
       "1                   Adventure|Children|Fantasy  \n",
       "2                               Comedy|Romance  "
      ]
     },
     "execution_count": 41,
     "metadata": {},
     "output_type": "execute_result"
    }
   ],
   "source": [
    "movies.head(3)"
   ]
  },
  {
   "cell_type": "code",
   "execution_count": 42,
   "metadata": {
    "colab": {},
    "colab_type": "code",
    "id": "Uy-iEA2OWdt2"
   },
   "outputs": [
    {
     "data": {
      "text/html": [
       "<div>\n",
       "<style scoped>\n",
       "    .dataframe tbody tr th:only-of-type {\n",
       "        vertical-align: middle;\n",
       "    }\n",
       "\n",
       "    .dataframe tbody tr th {\n",
       "        vertical-align: top;\n",
       "    }\n",
       "\n",
       "    .dataframe thead th {\n",
       "        text-align: right;\n",
       "    }\n",
       "</style>\n",
       "<table border=\"1\" class=\"dataframe\">\n",
       "  <thead>\n",
       "    <tr style=\"text-align: right;\">\n",
       "      <th></th>\n",
       "      <th>userId</th>\n",
       "      <th>movieId</th>\n",
       "      <th>rating</th>\n",
       "      <th>timestamp</th>\n",
       "    </tr>\n",
       "  </thead>\n",
       "  <tbody>\n",
       "    <tr>\n",
       "      <td>0</td>\n",
       "      <td>1</td>\n",
       "      <td>2</td>\n",
       "      <td>3.5</td>\n",
       "      <td>1112486027</td>\n",
       "    </tr>\n",
       "    <tr>\n",
       "      <td>1</td>\n",
       "      <td>1</td>\n",
       "      <td>29</td>\n",
       "      <td>3.5</td>\n",
       "      <td>1112484676</td>\n",
       "    </tr>\n",
       "    <tr>\n",
       "      <td>2</td>\n",
       "      <td>1</td>\n",
       "      <td>32</td>\n",
       "      <td>3.5</td>\n",
       "      <td>1112484819</td>\n",
       "    </tr>\n",
       "  </tbody>\n",
       "</table>\n",
       "</div>"
      ],
      "text/plain": [
       "   userId  movieId  rating   timestamp\n",
       "0       1        2     3.5  1112486027\n",
       "1       1       29     3.5  1112484676\n",
       "2       1       32     3.5  1112484819"
      ]
     },
     "execution_count": 42,
     "metadata": {},
     "output_type": "execute_result"
    }
   ],
   "source": [
    "ratings.head(3)"
   ]
  },
  {
   "cell_type": "code",
   "execution_count": null,
   "metadata": {},
   "outputs": [],
   "source": []
  }
 ],
 "metadata": {
  "colab": {
   "name": "Copy of Session_1.1.ipynb",
   "provenance": [],
   "toc_visible": true
  },
  "kernelspec": {
   "display_name": "recsys",
   "language": "python",
   "name": "recsys"
  },
  "language_info": {
   "codemirror_mode": {
    "name": "ipython",
    "version": 3
   },
   "file_extension": ".py",
   "mimetype": "text/x-python",
   "name": "python",
   "nbconvert_exporter": "python",
   "pygments_lexer": "ipython3",
   "version": "3.7.4"
  }
 },
 "nbformat": 4,
 "nbformat_minor": 4
}
